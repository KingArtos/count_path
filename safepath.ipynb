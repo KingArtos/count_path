{
 "cells": [
  {
   "cell_type": "markdown",
   "metadata": {},
   "source": [
    "# Safepath"
   ]
  },
  {
   "cell_type": "markdown",
   "metadata": {},
   "source": [
    "## Imagine que você foi convidado para desenvolver a mecânica de um novo jogo de estratégia."
   ]
  },
  {
   "cell_type": "markdown",
   "metadata": {},
   "source": [
    "## O estilo de mapa é um quadriculado onde não é possivel andar nas diagonais e o seu objetivo é calcular quantos caminhos com até X passos são possíveis, entre o herói e o tesouro, garantindo assim que o desafio é realizavel"
   ]
  },
  {
   "cell_type": "markdown",
   "metadata": {},
   "source": [
    "![mapa.png](images/mapa.png)"
   ]
  },
  {
   "cell_type": "markdown",
   "metadata": {},
   "source": [
    "## Imagine que você inicie na primeira posição inferior esquerda (0,0)"
   ]
  },
  {
   "cell_type": "code",
   "execution_count": 1,
   "metadata": {},
   "outputs": [],
   "source": [
    "import math"
   ]
  },
  {
   "cell_type": "code",
   "execution_count": 2,
   "metadata": {},
   "outputs": [],
   "source": [
    "posicao_inicial = [0,0]"
   ]
  },
  {
   "cell_type": "markdown",
   "metadata": {},
   "source": [
    "## E que o tesouro encontra-se na última posição superior direita (5,4)"
   ]
  },
  {
   "cell_type": "code",
   "execution_count": 3,
   "metadata": {},
   "outputs": [],
   "source": [
    "tesouro = [5,4]"
   ]
  },
  {
   "cell_type": "markdown",
   "metadata": {},
   "source": [
    "## Para definirmos de que forma iremos avançar, vamos calcular quantas possibilidades existem (_considerando sempre o menor caminho até 9 passos_)"
   ]
  },
  {
   "cell_type": "markdown",
   "metadata": {},
   "source": [
    "![tesouro.png](images/tesouro.png)"
   ]
  },
  {
   "cell_type": "markdown",
   "metadata": {},
   "source": [
    "## Para determinarmos isso, observamos que qualquer uma das possibilidades precisa de 4 subidas e 5 deslocamentos para a direita"
   ]
  },
  {
   "cell_type": "markdown",
   "metadata": {},
   "source": [
    "## Se olharmos desatentamente podemos pensar que o número de possibilidades seria 4 x 5, mas esse calculo se mostra equivocado"
   ]
  },
  {
   "cell_type": "markdown",
   "metadata": {},
   "source": [
    "# < Permutação com repetição de termos >"
   ]
  },
  {
   "cell_type": "markdown",
   "metadata": {},
   "source": [
    "## Nesse caso temos uma permutação com repetição, onde os elementos repetidos são 4(h) e 5(v), resultando no seguinte calculo:"
   ]
  },
  {
   "cell_type": "markdown",
   "metadata": {},
   "source": [
    "### (nº total de deslocamentos)!/((nº deslocamentos horizontal)!*(nº deslocamentos vertical)!)"
   ]
  },
  {
   "cell_type": "code",
   "execution_count": 4,
   "metadata": {},
   "outputs": [],
   "source": [
    "def possibilidades(origem, alvo):\n",
    "    des_x = abs(alvo[0] - origem[0])\n",
    "    des_y = abs(alvo[1] - origem[1])\n",
    "    return math.factorial(des_x + des_y) / ( math.factorial(des_x) * math.factorial(des_y) )"
   ]
  },
  {
   "cell_type": "markdown",
   "metadata": {},
   "source": [
    "### Pelos nossos calculos ficaria algo do tipo: 9!/(5! * 4!) ou seja 126"
   ]
  },
  {
   "cell_type": "code",
   "execution_count": 5,
   "metadata": {},
   "outputs": [
    {
     "name": "stdout",
     "output_type": "stream",
     "text": [
      "126.0\n"
     ]
    }
   ],
   "source": [
    "print(possibilidades(posicao_inicial, tesouro))"
   ]
  },
  {
   "cell_type": "markdown",
   "metadata": {},
   "source": [
    "## Agora vamos adicionar um ponto bonus(3,3) pelo qual temos que passar para realizarmos 100% da fase"
   ]
  },
  {
   "cell_type": "code",
   "execution_count": 6,
   "metadata": {},
   "outputs": [],
   "source": [
    "bonus = [3,3]"
   ]
  },
  {
   "cell_type": "markdown",
   "metadata": {},
   "source": [
    "![bonus.png](images/bonus.png)"
   ]
  },
  {
   "cell_type": "markdown",
   "metadata": {},
   "source": [
    "## Para calcularmos quantos caminhos possiveis existem que passem pelos dois pontos utilizaremos o ..."
   ]
  },
  {
   "cell_type": "markdown",
   "metadata": {},
   "source": [
    "# < Principio da multiplicação >"
   ]
  },
  {
   "cell_type": "markdown",
   "metadata": {},
   "source": [
    "## Vamos verificar quantos caminhos existem entre nossa posição e o bônus"
   ]
  },
  {
   "cell_type": "code",
   "execution_count": 7,
   "metadata": {},
   "outputs": [
    {
     "name": "stdout",
     "output_type": "stream",
     "text": [
      "20.0\n"
     ]
    }
   ],
   "source": [
    "inicial_bonus = possibilidades(posicao_inicial, bonus)\n",
    "print(inicial_bonus)"
   ]
  },
  {
   "cell_type": "markdown",
   "metadata": {},
   "source": [
    "## E quantos caminhos existem entre o bônus e o tesouro"
   ]
  },
  {
   "cell_type": "code",
   "execution_count": 8,
   "metadata": {},
   "outputs": [
    {
     "name": "stdout",
     "output_type": "stream",
     "text": [
      "3.0\n"
     ]
    }
   ],
   "source": [
    "bonus_tesouro = possibilidades(bonus, tesouro)\n",
    "print(bonus_tesouro)"
   ]
  },
  {
   "cell_type": "markdown",
   "metadata": {},
   "source": [
    "## Para cada caminho da posição inicial até o bônus é possivel escolher um dos caminhos entre o bônus e o tesouro para completar o circuito, o que resulta em: 20 * 3"
   ]
  },
  {
   "cell_type": "code",
   "execution_count": 9,
   "metadata": {},
   "outputs": [
    {
     "name": "stdout",
     "output_type": "stream",
     "text": [
      "60.0\n"
     ]
    }
   ],
   "source": [
    "inicial_bonus_tesouro = inicial_bonus * bonus_tesouro\n",
    "print(inicial_bonus_tesouro)"
   ]
  },
  {
   "cell_type": "markdown",
   "metadata": {},
   "source": [
    "## Vamos adicionar agora uma restrição entre as possibilidades de caminho no ponto(3,2)"
   ]
  },
  {
   "cell_type": "code",
   "execution_count": 10,
   "metadata": {},
   "outputs": [],
   "source": [
    "restricao = [3,2]"
   ]
  },
  {
   "cell_type": "markdown",
   "metadata": {},
   "source": [
    "![restricao_1.png](images/restricao_1.png)"
   ]
  },
  {
   "cell_type": "markdown",
   "metadata": {},
   "source": [
    "# Vamos então calcular quantos caminhos essa restrição irá nos afetar"
   ]
  },
  {
   "cell_type": "code",
   "execution_count": 11,
   "metadata": {},
   "outputs": [
    {
     "name": "stdout",
     "output_type": "stream",
     "text": [
      "10.0\n"
     ]
    }
   ],
   "source": [
    "inicial_restricao = possibilidades(posicao_inicial, restricao)\n",
    "print(inicial_restricao)"
   ]
  },
  {
   "cell_type": "code",
   "execution_count": 12,
   "metadata": {},
   "outputs": [
    {
     "name": "stdout",
     "output_type": "stream",
     "text": [
      "1.0\n"
     ]
    }
   ],
   "source": [
    "restricao_bonus = possibilidades(restricao, bonus)\n",
    "print(restricao_bonus)"
   ]
  },
  {
   "cell_type": "markdown",
   "metadata": {},
   "source": [
    "## Considerando que devemos remover todos os caminhos que passam pela restrição no circuito até o bônus, temos denovo o principio da multiplicação: 10 * 1"
   ]
  },
  {
   "cell_type": "code",
   "execution_count": 13,
   "metadata": {},
   "outputs": [
    {
     "name": "stdout",
     "output_type": "stream",
     "text": [
      "10.0\n"
     ]
    }
   ],
   "source": [
    "inicial_restricao_bonus = inicial_restricao * restricao_bonus\n",
    "print(inicial_restricao_bonus)"
   ]
  },
  {
   "cell_type": "markdown",
   "metadata": {},
   "source": [
    "## Agora o nosso calculo deve desconsiderar esses caminhos até o tesouro: 10 * 3"
   ]
  },
  {
   "cell_type": "code",
   "execution_count": 14,
   "metadata": {},
   "outputs": [
    {
     "name": "stdout",
     "output_type": "stream",
     "text": [
      "30.0\n"
     ]
    }
   ],
   "source": [
    "inicial_restricao_bonus_tesouro = inicial_restricao_bonus * bonus_tesouro\n",
    "print(inicial_restricao_bonus_tesouro)"
   ]
  },
  {
   "cell_type": "markdown",
   "metadata": {},
   "source": [
    "## Essa restrição gerou um impacto de 50% dos nossos caminhos possiveis"
   ]
  },
  {
   "cell_type": "code",
   "execution_count": 15,
   "metadata": {},
   "outputs": [
    {
     "name": "stdout",
     "output_type": "stream",
     "text": [
      "0.5\n"
     ]
    }
   ],
   "source": [
    "print(inicial_restricao_bonus_tesouro / inicial_bonus_tesouro)"
   ]
  },
  {
   "cell_type": "markdown",
   "metadata": {},
   "source": [
    "## Vamos agora adicionar uma nova restrição no ponto(1,1)"
   ]
  },
  {
   "cell_type": "code",
   "execution_count": 16,
   "metadata": {},
   "outputs": [],
   "source": [
    "restricao_2 = [1,1]"
   ]
  },
  {
   "cell_type": "markdown",
   "metadata": {},
   "source": [
    "![restricao_2.png](images/restricao_2.png)"
   ]
  },
  {
   "cell_type": "markdown",
   "metadata": {},
   "source": [
    "## Repetindo os calculos já realizados só que dessa vez para a nova restrição"
   ]
  },
  {
   "cell_type": "code",
   "execution_count": 17,
   "metadata": {},
   "outputs": [
    {
     "name": "stdout",
     "output_type": "stream",
     "text": [
      "2.0\n"
     ]
    }
   ],
   "source": [
    "inicial_restricao_2 = possibilidades(posicao_inicial, restricao_2)\n",
    "print(inicial_restricao_2)"
   ]
  },
  {
   "cell_type": "code",
   "execution_count": 18,
   "metadata": {},
   "outputs": [
    {
     "name": "stdout",
     "output_type": "stream",
     "text": [
      "6.0\n"
     ]
    }
   ],
   "source": [
    "restricao_2_bonus = possibilidades(restricao_2, bonus)\n",
    "print(restricao_2_bonus)"
   ]
  },
  {
   "cell_type": "code",
   "execution_count": 19,
   "metadata": {},
   "outputs": [
    {
     "name": "stdout",
     "output_type": "stream",
     "text": [
      "12.0\n"
     ]
    }
   ],
   "source": [
    "inicial_restricao_2_bonus = inicial_restricao_2 * restricao_2_bonus\n",
    "print(inicial_restricao_2_bonus)"
   ]
  },
  {
   "cell_type": "code",
   "execution_count": 20,
   "metadata": {},
   "outputs": [
    {
     "name": "stdout",
     "output_type": "stream",
     "text": [
      "36.0\n"
     ]
    }
   ],
   "source": [
    "inicial_restricao_2_bonus_tesouro = inicial_restricao_2_bonus * bonus_tesouro\n",
    "print(inicial_restricao_2_bonus_tesouro)"
   ]
  },
  {
   "cell_type": "markdown",
   "metadata": {},
   "source": [
    "## A segunda restrição causou um impacto de 60% dos nossos caminhos possiveis"
   ]
  },
  {
   "cell_type": "code",
   "execution_count": 21,
   "metadata": {},
   "outputs": [
    {
     "name": "stdout",
     "output_type": "stream",
     "text": [
      "0.6\n"
     ]
    }
   ],
   "source": [
    "print(inicial_restricao_2_bonus_tesouro / inicial_bonus_tesouro)"
   ]
  },
  {
   "cell_type": "markdown",
   "metadata": {},
   "source": [
    "## Agora para calcular o impacto das duas restrições em todos os nossos caminhos"
   ]
  },
  {
   "cell_type": "markdown",
   "metadata": {},
   "source": [
    "## Primeiro vamos verificar os caminhos entre as duas restrições"
   ]
  },
  {
   "cell_type": "code",
   "execution_count": 22,
   "metadata": {},
   "outputs": [
    {
     "name": "stdout",
     "output_type": "stream",
     "text": [
      "3.0\n"
     ]
    }
   ],
   "source": [
    "restricao_2_restricao = possibilidades(restricao_2, restricao)\n",
    "print(restricao_2_restricao)"
   ]
  },
  {
   "cell_type": "markdown",
   "metadata": {},
   "source": [
    "## Agora vamos ver o caminho inteiro passando por todas as restrições"
   ]
  },
  {
   "cell_type": "code",
   "execution_count": 23,
   "metadata": {},
   "outputs": [
    {
     "name": "stdout",
     "output_type": "stream",
     "text": [
      "18.0\n"
     ]
    }
   ],
   "source": [
    "inicial_restricao_2_restricao_bonus_tesouro = inicial_restricao_2 * restricao_2_restricao * restricao_bonus * bonus_tesouro\n",
    "print(inicial_restricao_2_restricao_bonus_tesouro)"
   ]
  },
  {
   "cell_type": "markdown",
   "metadata": {},
   "source": [
    "# < Principio da inclusão-exclusão >"
   ]
  },
  {
   "cell_type": "markdown",
   "metadata": {},
   "source": [
    "## O principio é utilizado pois ao contarmos os caminhos que passam por cada uma das restrições, contamos duas vezes os caminhos que passam entre as duas, assim sendo, temos que descontar eles uma vez"
   ]
  },
  {
   "cell_type": "markdown",
   "metadata": {},
   "source": [
    "## Algo que ficaria na seguinte fórmula: |A| + |B| - |A ∩ B|"
   ]
  },
  {
   "cell_type": "code",
   "execution_count": 24,
   "metadata": {},
   "outputs": [
    {
     "name": "stdout",
     "output_type": "stream",
     "text": [
      "48.0\n"
     ]
    }
   ],
   "source": [
    "caminhos_restritos = inicial_restricao_bonus_tesouro + inicial_restricao_2_bonus_tesouro - inicial_restricao_2_restricao_bonus_tesouro\n",
    "print(caminhos_restritos)"
   ]
  },
  {
   "cell_type": "markdown",
   "metadata": {},
   "source": [
    "## O principio pode ser utilizado para quantas restrições quisermos adicionar, no caso de três restrições ficaria: "
   ]
  },
  {
   "cell_type": "markdown",
   "metadata": {},
   "source": [
    "## |A| + |B| + |C| - |A ∩ B| - |A ∩ C| - |C ∩ B| + |A ∩ B ∩ C|"
   ]
  },
  {
   "cell_type": "code",
   "execution_count": 25,
   "metadata": {},
   "outputs": [],
   "source": [
    "# pendente o código para calcular isso de maneira dinâmica"
   ]
  },
  {
   "cell_type": "markdown",
   "metadata": {},
   "source": [
    "## As duas restrições geraram um impacto de 80% nos nossos possiveis caminhos"
   ]
  },
  {
   "cell_type": "code",
   "execution_count": 26,
   "metadata": {},
   "outputs": [
    {
     "name": "stdout",
     "output_type": "stream",
     "text": [
      "0.8\n"
     ]
    }
   ],
   "source": [
    "print(caminhos_restritos / inicial_bonus_tesouro)"
   ]
  },
  {
   "cell_type": "markdown",
   "metadata": {},
   "source": [
    "## Então ao todo a quantidade de caminhos possiveis são 12"
   ]
  },
  {
   "cell_type": "code",
   "execution_count": 27,
   "metadata": {},
   "outputs": [
    {
     "name": "stdout",
     "output_type": "stream",
     "text": [
      "12.0\n"
     ]
    }
   ],
   "source": [
    "print(inicial_bonus_tesouro - caminhos_restritos)"
   ]
  },
  {
   "cell_type": "code",
   "execution_count": 28,
   "metadata": {},
   "outputs": [],
   "source": [
    "# Obs_1: não devemos levar em consideração restrições colocadas fora do circuito estabelecido, ou seja,\n",
    "# as restrições consideradas devem atender a:\n",
    "# ((restricao_x > bonus_x and restricao_y > bonus_y) or (restricao_x <= bonus_x and restricao_y <= bonus_y))\n",
    "#                                                   and\n",
    "#                         (restricao_x <= tesouro_x and restricao_y <= tesouro_y)"
   ]
  },
  {
   "cell_type": "code",
   "execution_count": 29,
   "metadata": {},
   "outputs": [],
   "source": [
    "# Obs_2: uma restrição_b que é um subconjunto de outra restrição_a, ou seja, que a intersecção entre restrição_a e restrição_b dá a restrição_b, então podemos desconsiderar a restrição_b "
   ]
  },
  {
   "cell_type": "markdown",
   "metadata": {},
   "source": [
    "![restricao_3.png](images/restricao_3.png)"
   ]
  }
 ],
 "metadata": {
  "kernelspec": {
   "display_name": "Python 3",
   "language": "python",
   "name": "python3"
  },
  "language_info": {
   "codemirror_mode": {
    "name": "ipython",
    "version": 3
   },
   "file_extension": ".py",
   "mimetype": "text/x-python",
   "name": "python",
   "nbconvert_exporter": "python",
   "pygments_lexer": "ipython3",
   "version": "3.6.4"
  }
 },
 "nbformat": 4,
 "nbformat_minor": 2
}
